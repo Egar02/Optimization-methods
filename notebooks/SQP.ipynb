{
 "cells": [
  {
   "cell_type": "code",
   "execution_count": 1,
   "id": "4e1456fc",
   "metadata": {},
   "outputs": [],
   "source": [
    "\n",
    "# Теоретические сведения:\n",
    "#\n",
    "# Матрица Гессе H функции f: R^n -> R - это матрица, составленная из всех вторых частных производных \n",
    "#   некоторой функции n переменных f(x1, ..., x_n), \n",
    "#   Имеет размерность n x n\n",
    "#\n",
    "#   h_ij = d^2(f) / (dx_i * dx_j)\n",
    "#\n",
    "#   Более подробно: https://ru.wikipedia.org/wiki/%D0%93%D0%B5%D1%81%D1%81%D0%B8%D0%B0%D0%BD_%D1%84%D1%83%D0%BD%D0%BA%D1%86%D0%B8%D0%B8\n",
    "#\n",
    "#\n",
    "# Матрица Якоби J векторной функции n переменных g: R^n -> R^m - "
   ]
  },
  {
   "cell_type": "code",
   "execution_count": 2,
   "id": "a71d1209",
   "metadata": {},
   "outputs": [],
   "source": [
    "import numpy as np\n",
    "import sys"
   ]
  },
  {
   "cell_type": "code",
   "execution_count": 3,
   "id": "4aefec6e",
   "metadata": {},
   "outputs": [],
   "source": [
    "sys.path.append(\"..\")\n",
    "from src.SQP_method import SQP_method"
   ]
  },
  {
   "cell_type": "code",
   "execution_count": 4,
   "id": "d291fbbe",
   "metadata": {},
   "outputs": [],
   "source": [
    "# Функция Розенброка\n",
    "def f(x, y):\n",
    "    \n",
    "    return (1 - x) ** 2 + 100 * (y - x ** 2) ** 2"
   ]
  },
  {
   "cell_type": "code",
   "execution_count": 5,
   "id": "3a8b7b0d",
   "metadata": {},
   "outputs": [],
   "source": [
    "# Градиент минимизируемой функции\n",
    "def df(x, y):\n",
    "    \n",
    "    return np.array([[2 * (x - 1) + 400 * x * (x ** 2 - y)], [200 * (y - x ** 2)]])"
   ]
  },
  {
   "cell_type": "code",
   "execution_count": 6,
   "id": "7f2c09d9",
   "metadata": {},
   "outputs": [],
   "source": [
    "# матрица Гессе минимизируемой функции\n",
    "def Hf(x, y):\n",
    "    \n",
    "    H11 = 2 + 400 * (x ** 2 - y) * (2 * x + 1)\n",
    "    H12 = -400 * x\n",
    "    H21 = -400 * x\n",
    "    H22 = 200\n",
    "    \n",
    "    return np.array([[H11, H12], [H21, H22]])"
   ]
  },
  {
   "cell_type": "code",
   "execution_count": 7,
   "id": "52bd8b0d",
   "metadata": {},
   "outputs": [],
   "source": [
    "# Ограничение - круговая область\n",
    "def g(x, y):\n",
    "    \n",
    "    return np.array([[x ** 2 + y ** 2 - 2]])"
   ]
  },
  {
   "cell_type": "code",
   "execution_count": 8,
   "id": "46cd51c0",
   "metadata": {},
   "outputs": [],
   "source": [
    "# Матрица Якоби ограничивающей функции\n",
    "def Jg(x, y):\n",
    "    \n",
    "    J11 = 2 * x\n",
    "    J12 = 2 * y\n",
    "    \n",
    "    return np.array([[J11, J12]])"
   ]
  },
  {
   "cell_type": "code",
   "execution_count": 9,
   "id": "51454875",
   "metadata": {},
   "outputs": [],
   "source": [
    "# Матрица Гессе ограничивающей функции\n",
    "def Hg(x, y):\n",
    "    \n",
    "    H11 = 2\n",
    "    H12 = 0\n",
    "    H21 = 0\n",
    "    H22 = 2\n",
    "    \n",
    "    return np.expand_dims(np.array([[H11, H12], [H21, H22]]), axis=1)"
   ]
  },
  {
   "cell_type": "code",
   "execution_count": 10,
   "id": "7557ad92",
   "metadata": {},
   "outputs": [],
   "source": [
    "# Градиент функции Лагранжа\n",
    "def dL(x, y, Lambda):\n",
    "    \n",
    "    L1 = df(x, y) + Jg(x, y).T @ Lambda\n",
    "    L2 = g(x, y)\n",
    "    \n",
    "    return np.vstack([L1, L2])"
   ]
  },
  {
   "cell_type": "code",
   "execution_count": 11,
   "id": "2defda8f",
   "metadata": {},
   "outputs": [
    {
     "name": "stdout",
     "output_type": "stream",
     "text": [
      "\n",
      "_________________________________________________________________________________\n",
      "\n",
      "\n",
      "// Найден локальный минимум за 79 шагов //\n",
      "\n",
      "В точке:\t\t(1.000, 1.000)\n",
      "Значение функции:\t\t 0.000\n",
      "\n"
     ]
    }
   ],
   "source": [
    "x, y = SQP_method(x_0=0.5, y_0=0.5, Lambda_0=0.5 * np.ones((1, 1)),\n",
    "                  f=f, Hf=Hf, Hg=Hg, Jg=Jg, dL=dL,\n",
    "                  goal=1e-5, logs=False)"
   ]
  }
 ],
 "metadata": {
  "kernelspec": {
   "display_name": "dl_env",
   "language": "python",
   "name": "python3"
  },
  "language_info": {
   "codemirror_mode": {
    "name": "ipython",
    "version": 3
   },
   "file_extension": ".py",
   "mimetype": "text/x-python",
   "name": "python",
   "nbconvert_exporter": "python",
   "pygments_lexer": "ipython3",
   "version": "3.10.12"
  }
 },
 "nbformat": 4,
 "nbformat_minor": 5
}
