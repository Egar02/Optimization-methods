{
 "cells": [
  {
   "cell_type": "code",
   "execution_count": 108,
   "id": "a71d1209",
   "metadata": {},
   "outputs": [],
   "source": [
    "import numpy as np"
   ]
  },
  {
   "cell_type": "code",
   "execution_count": 109,
   "id": "d291fbbe",
   "metadata": {},
   "outputs": [],
   "source": [
    "# Функция Розенброка\n",
    "def f(x, y):\n",
    "    \n",
    "    return (1 - x) ** 2 + 100 * (y - x ** 2) ** 2"
   ]
  },
  {
   "cell_type": "code",
   "execution_count": 110,
   "id": "3a8b7b0d",
   "metadata": {},
   "outputs": [],
   "source": [
    "# Градиент минимизируемой функции\n",
    "def df(x, y):\n",
    "    \n",
    "    return np.array([[2 * (x - 1) + 400 * x * (x ** 2 - y)], [200 * (y - x ** 2)]])"
   ]
  },
  {
   "cell_type": "code",
   "execution_count": 111,
   "id": "7f2c09d9",
   "metadata": {},
   "outputs": [],
   "source": [
    "# матрица Гессе минимизируемой функции\n",
    "def Hf(x, y):\n",
    "    \n",
    "    H11 = 2 + 400 * (x ** 2 - y) * (2 * x + 1)\n",
    "    H12 = -400 * x\n",
    "    H21 = -400 * x\n",
    "    H22 = 200\n",
    "    \n",
    "    return np.array([[H11, H12], [H21, H22]])"
   ]
  },
  {
   "cell_type": "code",
   "execution_count": 112,
   "id": "52bd8b0d",
   "metadata": {},
   "outputs": [],
   "source": [
    "# Ограничение - круговая область\n",
    "def g(x, y):\n",
    "    \n",
    "    return np.array([[x ** 2 + y ** 2 - 2]])"
   ]
  },
  {
   "cell_type": "code",
   "execution_count": 113,
   "id": "46cd51c0",
   "metadata": {},
   "outputs": [],
   "source": [
    "# Матрица Якоби ограничивающей функции\n",
    "def Jg(x, y):\n",
    "    \n",
    "    J11 = 2 * x\n",
    "    J12 = 2 * y\n",
    "    \n",
    "    return np.array([[J11, J12]])"
   ]
  },
  {
   "cell_type": "code",
   "execution_count": 114,
   "id": "51454875",
   "metadata": {},
   "outputs": [],
   "source": [
    "# Матрица Гессе ограничивающей функции\n",
    "def Hg(x, y):\n",
    "    \n",
    "    H11 = 2\n",
    "    H12 = 0\n",
    "    H21 = 0\n",
    "    H22 = 2\n",
    "    \n",
    "    return np.expand_dims(np.array([[H11, H12], [H21, H22]]), axis=1)"
   ]
  },
  {
   "cell_type": "code",
   "execution_count": 115,
   "id": "99ab20d6",
   "metadata": {},
   "outputs": [],
   "source": [
    "# Левый верхний блок матрицы Якоби для градиента функции Лагранжа\n",
    "def B(x, y, Lambda, Hf, Hg):\n",
    "    \n",
    "    return Hf(x, y) + np.squeeze(np.dot(Lambda.T, Hg(x, y)), axis=0)\n",
    "    "
   ]
  },
  {
   "cell_type": "code",
   "execution_count": 116,
   "id": "e35761ed",
   "metadata": {},
   "outputs": [],
   "source": [
    "# Матрица Якоби для градиента функции Лагранжа\n",
    "def JdL(x, y, Lambda):\n",
    "    \n",
    "    B_ = B(x, y, Lambda, Hf, Hg)\n",
    "    Jg_ = Jg(x, y)\n",
    "    m = Jg_.shape[0]\n",
    "    \n",
    "    JdL_up = np.hstack([B_, Jg_.T])\n",
    "    JdL_bottom = np.hstack([Jg_, np.zeros((m, m))])\n",
    "    \n",
    "    return np.vstack([JdL_up, JdL_bottom])"
   ]
  },
  {
   "cell_type": "code",
   "execution_count": 122,
   "id": "7557ad92",
   "metadata": {},
   "outputs": [],
   "source": [
    "# Градиент функции Лагранжа\n",
    "def dL(x, y, Lambda):\n",
    "    \n",
    "    L1 = df(x, y) + Jg(x, y).T @ Lambda\n",
    "    L2 = g(x, y)\n",
    "    \n",
    "    return np.vstack([L1, L2])"
   ]
  },
  {
   "cell_type": "code",
   "execution_count": 123,
   "id": "6acd05bd",
   "metadata": {},
   "outputs": [
    {
     "data": {
      "text/plain": [
       "array([[-2.],\n",
       "       [ 0.],\n",
       "       [-2.]])"
      ]
     },
     "execution_count": 123,
     "metadata": {},
     "output_type": "execute_result"
    }
   ],
   "source": [
    "dL(0, 0, np.ones((1, 1)))"
   ]
  },
  {
   "cell_type": "code",
   "execution_count": 128,
   "id": "6366f352",
   "metadata": {},
   "outputs": [
    {
     "data": {
      "text/plain": [
       "array([[   4., -400.,    2.],\n",
       "       [-400.,  202.,    2.],\n",
       "       [   2.,    2.,    0.]])"
      ]
     },
     "execution_count": 128,
     "metadata": {},
     "output_type": "execute_result"
    }
   ],
   "source": [
    "JdL(1, 1, np.ones((1, 1)))"
   ]
  },
  {
   "cell_type": "code",
   "execution_count": 81,
   "id": "6d7ed5de",
   "metadata": {},
   "outputs": [
    {
     "data": {
      "text/plain": [
       "(1, 2, 2)"
      ]
     },
     "execution_count": 81,
     "metadata": {},
     "output_type": "execute_result"
    }
   ],
   "source": [
    "np.dot(np.ones((2, 1)).T, np.ones((2, 2, 2))).shape"
   ]
  },
  {
   "cell_type": "code",
   "execution_count": 130,
   "id": "f14fbc19",
   "metadata": {},
   "outputs": [
    {
     "data": {
      "text/plain": [
       "array([[   0.5       ],\n",
       "       [   1.98019802],\n",
       "       [-105.96039604]])"
      ]
     },
     "execution_count": 130,
     "metadata": {},
     "output_type": "execute_result"
    }
   ],
   "source": [
    "np.linalg.solve(JdL(1, 0, np.ones((1, 1))), -dL(1, 0, np.ones((1, 1))))"
   ]
  },
  {
   "cell_type": "code",
   "execution_count": 125,
   "id": "af82c68c",
   "metadata": {},
   "outputs": [
    {
     "data": {
      "text/plain": [
       "np.float64(0.0)"
      ]
     },
     "execution_count": 125,
     "metadata": {},
     "output_type": "execute_result"
    }
   ],
   "source": [
    "np.linalg.det(JdL(0, 0, np.ones((1, 1))))"
   ]
  },
  {
   "cell_type": "code",
   "execution_count": 132,
   "id": "733a52f0",
   "metadata": {},
   "outputs": [
    {
     "data": {
      "text/plain": [
       "4.0"
      ]
     },
     "execution_count": 132,
     "metadata": {},
     "output_type": "execute_result"
    }
   ],
   "source": [
    "float(JdL(0, 0, np.ones((1, 1)))[0][0])"
   ]
  },
  {
   "cell_type": "code",
   "execution_count": 137,
   "id": "544f3bb9",
   "metadata": {},
   "outputs": [],
   "source": [
    "def SQP_step(x, y, Lambda, JdL, dL):\n",
    "    \n",
    "    JdL_ = JdL(x, y, Lambda)\n",
    "    dL_ = dL(x, y, Lambda)\n",
    "    \n",
    "    shift = np.linalg.solve(JdL_, -dL_)\n",
    "    \n",
    "    shift_x = shift[0].item()\n",
    "    shift_y = shift[1].item()\n",
    "    \n",
    "    shift_Lambda = shift[2:, :]\n",
    "    \n",
    "    return shift_x, shift_y, shift_Lambda\n",
    "    "
   ]
  },
  {
   "cell_type": "code",
   "execution_count": 138,
   "id": "f9d6ba3b",
   "metadata": {},
   "outputs": [
    {
     "data": {
      "text/plain": [
       "(0.5000000000000002, 1.9801980198019804, array([[-105.96039604]]))"
      ]
     },
     "execution_count": 138,
     "metadata": {},
     "output_type": "execute_result"
    }
   ],
   "source": [
    "SQP_step(1, 0, np.ones((1, 1)), JdL, dL)"
   ]
  },
  {
   "cell_type": "code",
   "execution_count": 241,
   "id": "0827eb4a",
   "metadata": {},
   "outputs": [],
   "source": [
    "def SQP_method(x_0, y_0, Lambda_0, JdL, dL, goal=1e-5):\n",
    "    \n",
    "    x = x_0\n",
    "    y = y_0\n",
    "    Lambda = Lambda_0\n",
    "    \n",
    "    grad_L = np.sqrt(np.sum(dL(x, y, Lambda) ** 2))\n",
    "    \n",
    "    print(f\"Шаг 0:\\t x = {x},\\t y = {y},\\t f = {f(x, y)},\\t |grad L| = {np.sqrt(np.sum(dL(x, y, Lambda) ** 2))}\")\n",
    "    \n",
    "    i = 0\n",
    "    \n",
    "    while abs(grad_L) > goal:\n",
    "        \n",
    "        i += 1\n",
    "        \n",
    "        shift_x, shift_y, shift_Lambda = SQP_step(x, y, Lambda, JdL, dL)\n",
    "        \n",
    "        x += shift_x\n",
    "        y += shift_y\n",
    "        Lambda += shift_Lambda\n",
    "        \n",
    "        grad_L = np.sqrt(np.sum(dL(x, y, Lambda) ** 2))\n",
    "        \n",
    "        print(f\"Шаг {i + 1}:\\t x = {x:.5f},\\t y = {y:.5f},\\t f = {f(x, y):.4f},\\t |grad L| = {grad_L:.5e}\")\n",
    "    \n",
    "    print(\"\\n_________________________________________________________________________________\\n\")\n",
    "    print(f\"\\n// Найден локальный минимум за {i + 1} шагов //\\n\\n\\\n",
    "В точке:\\t\\t({x:.3f}, {y:.3f})\\n\\\n",
    "Значение функции:\\t\\t {f(x, y):.3f}\\n\")\n",
    "        \n",
    "    return x, y"
   ]
  },
  {
   "cell_type": "code",
   "execution_count": 242,
   "id": "2defda8f",
   "metadata": {},
   "outputs": [
    {
     "name": "stdout",
     "output_type": "stream",
     "text": [
      "Шаг 0:\t x = 0.5,\t y = 0.5,\t f = 6.5,\t |grad L| = 71.43353554178877\n",
      "Шаг 2:\t x = 2.23886,\t y = 0.26114,\t f = 2259.0786,\t |grad L| = 5.85665e+03\n",
      "Шаг 3:\t x = 1.55648,\t y = 0.21291,\t f = 488.6014,\t |grad L| = 3.65710e+03\n",
      "Шаг 4:\t x = 1.37554,\t y = 0.43672,\t f = 211.9554,\t |grad L| = 6.46522e+02\n",
      "Шаг 5:\t x = 1.04953,\t y = 1.36872,\t f = 7.1430,\t |grad L| = 4.40146e+02\n",
      "Шаг 6:\t x = 0.90506,\t y = 1.12336,\t f = 9.2641,\t |grad L| = 1.26211e+02\n",
      "Шаг 7:\t x = 1.28293,\t y = 0.78283,\t f = 74.5709,\t |grad L| = 6.11967e+02\n",
      "Шаг 8:\t x = 1.05357,\t y = 0.99346,\t f = 1.3612,\t |grad L| = 5.11298e+01\n",
      "Шаг 9:\t x = 0.96888,\t y = 1.03447,\t f = 0.9174,\t |grad L| = 5.65316e+01\n",
      "Шаг 10:\t x = 1.03885,\t y = 0.96465,\t f = 1.3139,\t |grad L| = 6.84097e+01\n",
      "Шаг 11:\t x = 0.98122,\t y = 1.02165,\t f = 0.3467,\t |grad L| = 3.70270e+01\n",
      "Шаг 12:\t x = 1.01987,\t y = 0.98132,\t f = 0.3464,\t |grad L| = 3.49396e+01\n",
      "Шаг 13:\t x = 0.98774,\t y = 1.01312,\t f = 0.1406,\t |grad L| = 2.29422e+01\n",
      "Шаг 14:\t x = 1.01164,\t y = 0.98881,\t f = 0.1199,\t |grad L| = 2.06332e+01\n",
      "Шаг 15:\t x = 0.99202,\t y = 1.00829,\t f = 0.0585,\t |grad L| = 1.46704e+01\n",
      "Шаг 16:\t x = 1.00711,\t y = 0.99307,\t f = 0.0450,\t |grad L| = 1.26726e+01\n",
      "Шаг 17:\t x = 0.99483,\t y = 1.00529,\t f = 0.0244,\t |grad L| = 9.42402e+00\n",
      "Шаг 18:\t x = 1.00443,\t y = 0.99564,\t f = 0.0175,\t |grad L| = 7.92052e+00\n",
      "Шаг 19:\t x = 0.99667,\t y = 1.00338,\t f = 0.0101,\t |grad L| = 6.04994e+00\n",
      "Шаг 20:\t x = 1.00278,\t y = 0.99725,\t f = 0.0070,\t |grad L| = 4.99334e+00\n",
      "Шаг 21:\t x = 0.99786,\t y = 1.00216,\t f = 0.0042,\t |grad L| = 3.87726e+00\n",
      "Шаг 22:\t x = 1.00176,\t y = 0.99825,\t f = 0.0028,\t |grad L| = 3.16245e+00\n",
      "Шаг 23:\t x = 0.99863,\t y = 1.00138,\t f = 0.0017,\t |grad L| = 2.48087e+00\n",
      "Шаг 24:\t x = 1.00112,\t y = 0.99889,\t f = 0.0011,\t |grad L| = 2.00806e+00\n",
      "Шаг 25:\t x = 0.99912,\t y = 1.00088,\t f = 0.0007,\t |grad L| = 1.58545e+00\n",
      "Шаг 26:\t x = 1.00071,\t y = 0.99929,\t f = 0.0005,\t |grad L| = 1.27698e+00\n",
      "Шаг 27:\t x = 0.99944,\t y = 1.00056,\t f = 0.0003,\t |grad L| = 1.01234e+00\n",
      "Шаг 28:\t x = 1.00045,\t y = 0.99955,\t f = 0.0002,\t |grad L| = 8.12797e-01\n",
      "Шаг 29:\t x = 0.99964,\t y = 1.00036,\t f = 0.0001,\t |grad L| = 6.46019e-01\n",
      "Шаг 30:\t x = 1.00029,\t y = 0.99971,\t f = 0.0001,\t |grad L| = 5.17632e-01\n",
      "Шаг 31:\t x = 0.99977,\t y = 1.00023,\t f = 0.0000,\t |grad L| = 4.12095e-01\n",
      "Шаг 32:\t x = 1.00018,\t y = 0.99982,\t f = 0.0000,\t |grad L| = 3.29770e-01\n",
      "Шаг 33:\t x = 0.99985,\t y = 1.00015,\t f = 0.0000,\t |grad L| = 2.62808e-01\n",
      "Шаг 34:\t x = 1.00012,\t y = 0.99988,\t f = 0.0000,\t |grad L| = 2.10133e-01\n",
      "Шаг 35:\t x = 0.99991,\t y = 1.00009,\t f = 0.0000,\t |grad L| = 1.67575e-01\n",
      "Шаг 36:\t x = 1.00007,\t y = 0.99993,\t f = 0.0000,\t |grad L| = 1.33917e-01\n",
      "Шаг 37:\t x = 0.99994,\t y = 1.00006,\t f = 0.0000,\t |grad L| = 1.06840e-01\n",
      "Шаг 38:\t x = 1.00005,\t y = 0.99995,\t f = 0.0000,\t |grad L| = 8.53521e-02\n",
      "Шаг 39:\t x = 0.99996,\t y = 1.00004,\t f = 0.0000,\t |grad L| = 6.81132e-02\n",
      "Шаг 40:\t x = 1.00003,\t y = 0.99997,\t f = 0.0000,\t |grad L| = 5.44023e-02\n",
      "Шаг 41:\t x = 0.99998,\t y = 1.00002,\t f = 0.0000,\t |grad L| = 4.34219e-02\n",
      "Шаг 42:\t x = 1.00002,\t y = 0.99998,\t f = 0.0000,\t |grad L| = 3.46765e-02\n",
      "Шаг 43:\t x = 0.99998,\t y = 1.00002,\t f = 0.0000,\t |grad L| = 2.76805e-02\n",
      "Шаг 44:\t x = 1.00001,\t y = 0.99999,\t f = 0.0000,\t |grad L| = 2.21036e-02\n",
      "Шаг 45:\t x = 0.99999,\t y = 1.00001,\t f = 0.0000,\t |grad L| = 1.76454e-02\n",
      "Шаг 46:\t x = 1.00001,\t y = 0.99999,\t f = 0.0000,\t |grad L| = 1.40895e-02\n",
      "Шаг 47:\t x = 0.99999,\t y = 1.00001,\t f = 0.0000,\t |grad L| = 1.12483e-02\n",
      "Шаг 48:\t x = 1.00000,\t y = 1.00000,\t f = 0.0000,\t |grad L| = 8.98121e-03\n",
      "Шаг 49:\t x = 1.00000,\t y = 1.00000,\t f = 0.0000,\t |grad L| = 7.17027e-03\n",
      "Шаг 50:\t x = 1.00000,\t y = 1.00000,\t f = 0.0000,\t |grad L| = 5.72499e-03\n",
      "Шаг 51:\t x = 1.00000,\t y = 1.00000,\t f = 0.0000,\t |grad L| = 4.57071e-03\n",
      "Шаг 52:\t x = 1.00000,\t y = 1.00000,\t f = 0.0000,\t |grad L| = 3.64936e-03\n",
      "Шаг 53:\t x = 1.00000,\t y = 1.00000,\t f = 0.0000,\t |grad L| = 2.91360e-03\n",
      "Шаг 54:\t x = 1.00000,\t y = 1.00000,\t f = 0.0000,\t |grad L| = 2.32627e-03\n",
      "Шаг 55:\t x = 1.00000,\t y = 1.00000,\t f = 0.0000,\t |grad L| = 1.85727e-03\n",
      "Шаг 56:\t x = 1.00000,\t y = 1.00000,\t f = 0.0000,\t |grad L| = 1.48287e-03\n",
      "Шаг 57:\t x = 1.00000,\t y = 1.00000,\t f = 0.0000,\t |grad L| = 1.18392e-03\n",
      "Шаг 58:\t x = 1.00000,\t y = 1.00000,\t f = 0.0000,\t |grad L| = 9.45250e-04\n",
      "Шаг 59:\t x = 1.00000,\t y = 1.00000,\t f = 0.0000,\t |grad L| = 7.54686e-04\n",
      "Шаг 60:\t x = 1.00000,\t y = 1.00000,\t f = 0.0000,\t |grad L| = 6.02547e-04\n",
      "Шаг 61:\t x = 1.00000,\t y = 1.00000,\t f = 0.0000,\t |grad L| = 4.81074e-04\n",
      "Шаг 62:\t x = 1.00000,\t y = 1.00000,\t f = 0.0000,\t |grad L| = 3.84092e-04\n",
      "Шаг 63:\t x = 1.00000,\t y = 1.00000,\t f = 0.0000,\t |grad L| = 3.06659e-04\n",
      "Шаг 64:\t x = 1.00000,\t y = 1.00000,\t f = 0.0000,\t |grad L| = 2.44838e-04\n",
      "Шаг 65:\t x = 1.00000,\t y = 1.00000,\t f = 0.0000,\t |grad L| = 1.95479e-04\n",
      "Шаг 66:\t x = 1.00000,\t y = 1.00000,\t f = 0.0000,\t |grad L| = 1.56072e-04\n",
      "Шаг 67:\t x = 1.00000,\t y = 1.00000,\t f = 0.0000,\t |grad L| = 1.24608e-04\n",
      "Шаг 68:\t x = 1.00000,\t y = 1.00000,\t f = 0.0000,\t |grad L| = 9.94874e-05\n",
      "Шаг 69:\t x = 1.00000,\t y = 1.00000,\t f = 0.0000,\t |grad L| = 7.94310e-05\n",
      "Шаг 70:\t x = 1.00000,\t y = 1.00000,\t f = 0.0000,\t |grad L| = 6.34180e-05\n",
      "Шаг 71:\t x = 1.00000,\t y = 1.00000,\t f = 0.0000,\t |grad L| = 5.06331e-05\n",
      "Шаг 72:\t x = 1.00000,\t y = 1.00000,\t f = 0.0000,\t |grad L| = 4.04257e-05\n",
      "Шаг 73:\t x = 1.00000,\t y = 1.00000,\t f = 0.0000,\t |grad L| = 3.22760e-05\n",
      "Шаг 74:\t x = 1.00000,\t y = 1.00000,\t f = 0.0000,\t |grad L| = 2.57692e-05\n",
      "Шаг 75:\t x = 1.00000,\t y = 1.00000,\t f = 0.0000,\t |grad L| = 2.05742e-05\n",
      "Шаг 76:\t x = 1.00000,\t y = 1.00000,\t f = 0.0000,\t |grad L| = 1.64265e-05\n",
      "Шаг 77:\t x = 1.00000,\t y = 1.00000,\t f = 0.0000,\t |grad L| = 1.31150e-05\n",
      "Шаг 78:\t x = 1.00000,\t y = 1.00000,\t f = 0.0000,\t |grad L| = 1.04711e-05\n",
      "Шаг 79:\t x = 1.00000,\t y = 1.00000,\t f = 0.0000,\t |grad L| = 8.36013e-06\n",
      "\n",
      "_________________________________________________________________________________\n",
      "\n",
      "\n",
      "// Найден локальный минимум за 79 шагов //\n",
      "\n",
      "В точке:\t\t(1.000, 1.000)\n",
      "Значение функции:\t\t 0.000\n",
      "\n"
     ]
    }
   ],
   "source": [
    "x, y = SQP_method(x_0=0.5, y_0=0.5, Lambda_0=0.5 * np.ones((1, 1)), JdL=JdL, dL=dL, goal=1e-5)"
   ]
  },
  {
   "cell_type": "code",
   "execution_count": null,
   "id": "0d02c478",
   "metadata": {},
   "outputs": [],
   "source": []
  }
 ],
 "metadata": {
  "kernelspec": {
   "display_name": "dl_env",
   "language": "python",
   "name": "python3"
  },
  "language_info": {
   "codemirror_mode": {
    "name": "ipython",
    "version": 3
   },
   "file_extension": ".py",
   "mimetype": "text/x-python",
   "name": "python",
   "nbconvert_exporter": "python",
   "pygments_lexer": "ipython3",
   "version": "3.10.12"
  }
 },
 "nbformat": 4,
 "nbformat_minor": 5
}
